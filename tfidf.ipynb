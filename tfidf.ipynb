{
 "cells": [
  {
   "cell_type": "markdown",
   "metadata": {},
   "source": [
    "## TF-IDF ##"
   ]
  },
  {
   "cell_type": "code",
   "execution_count": 77,
   "metadata": {
    "collapsed": true
   },
   "outputs": [],
   "source": [
    "from pyspark.mllib.feature import HashingTF, IDF\n",
    "from pyspark.mllib.common import callMLlibFunc, JavaModelWrapper\n",
    "from pyspark.mllib.linalg.distributed import RowMatrix, DistributedMatrix\n",
    "from pyspark.mllib.linalg import Vectors\n",
    "import numpy as np\n",
    "import math"
   ]
  },
  {
   "cell_type": "markdown",
   "metadata": {},
   "source": [
    "** Peso de um termo dado um documento **"
   ]
  },
  {
   "cell_type": "code",
   "execution_count": 78,
   "metadata": {
    "collapsed": true
   },
   "outputs": [],
   "source": [
    "def termDocWeight(termFrequencyInDoc, totalTermsInDoc, termFreqInCorpus, totalDocs):\n",
    "    tf = termFrequencyInDoc / totalTermsInDoc\n",
    "    docFreq = totalDocs/termFreqInCorpus\n",
    "    idf = math.log(docFreq)\n",
    "    return tf * idf"
   ]
  },
  {
   "cell_type": "markdown",
   "metadata": {},
   "source": [
    "** Entrando arquivo **"
   ]
  },
  {
   "cell_type": "code",
   "execution_count": 79,
   "metadata": {
    "collapsed": false
   },
   "outputs": [],
   "source": [
    "#este arquivo é pré-processado\n",
    "\n",
    "documents = sc.textFile(\"data_works.txt\").map(lambda line: line.split(\" \"))"
   ]
  },
  {
   "cell_type": "markdown",
   "metadata": {},
   "source": [
    "** Criando dicionário de termos por documento **"
   ]
  },
  {
   "cell_type": "code",
   "execution_count": 80,
   "metadata": {
    "collapsed": false
   },
   "outputs": [],
   "source": [
    "#função q retorna um dicionário de termos/frequencia de um documento\n",
    "def caclDocTermFreq(doc):\n",
    "    terms = dict()\n",
    "    for term in doc:\n",
    "        if term in terms:\n",
    "            terms[term] += 1\n",
    "        else:\n",
    "            terms[term] = 1\n",
    "    return terms\n",
    "         \n",
    "#para cada documento, seu dicionário\n",
    "docTermFreqs = documents.map(caclDocTermFreq)\n",
    "\n",
    "#como será usado ao menos mais duas vezes, manteremos em memória\n",
    "docTermFreqs.cache()\n",
    "\n",
    "#\n",
    "docFreqs = docTermFreqs.flatMap(lambda _: _.keys()).map(lambda _: (_, 1)).reduceByKey(lambda x1, x2: x1 + x2)\n"
   ]
  },
  {
   "cell_type": "markdown",
   "metadata": {},
   "source": [
    "** Calculando a inversa das frequencias do documento **"
   ]
  },
  {
   "cell_type": "code",
   "execution_count": 186,
   "metadata": {
    "collapsed": false
   },
   "outputs": [
    {
     "name": "stdout",
     "output_type": "stream",
     "text": [
      "{0: 'doc0', 1: 'doc1', 2: 'doc2', 3: 'doc3', 4: 'doc4', 5: 'doc5', 6: 'doc6', 7: 'doc7', 8: 'doc8', 9: 'doc9', 10: 'doc10', 11: 'doc11', 12: 'doc12', 13: 'doc13', 14: 'doc14'}\n"
     ]
    }
   ],
   "source": [
    "#numero de documentos\n",
    "numDocs = docTermFreqs.count()\n",
    "\n",
    "def inverseDocFreq((term, count)):\n",
    "    return (term, math.log(numDocs / count))\n",
    "\n",
    "#idfs é um dicionário termo/inversa\n",
    "idfs = docFreqs.map(inverseDocFreq).collectAsMap()\n",
    "\n",
    "#tdicionário id/termo e o reverso\n",
    "termIds = dict(enumerate(idfs.keys()))\n",
    "idTerms = dict(map(reversed, termIds.iteritems()))\n",
    "\n",
    "docIds = dict(enumerate(['doc'+str(x) for x in range(0,numDocs)]))\n",
    "idDocs = dict(map(reversed, docIds.iteritems()))\n",
    "\n",
    "#Because the term ID map is fairly large and we’ll use it in a few different places, let’s broadcast it along with the IDFs:\n",
    "bIdfs = sc.broadcast(idfs).value\n",
    "bIdTerms = sc.broadcast(idTerms).value\n",
    "bIdDocs = sc.broadcast(idDocs).value\n"
   ]
  },
  {
   "cell_type": "markdown",
   "metadata": {},
   "source": [
    "** TF-IDF para cada documento **"
   ]
  },
  {
   "cell_type": "code",
   "execution_count": 82,
   "metadata": {
    "collapsed": false
   },
   "outputs": [
    {
     "data": {
      "text/plain": [
       "PythonRDD[145] at RDD at PythonRDD.scala:43"
      ]
     },
     "execution_count": 82,
     "metadata": {},
     "output_type": "execute_result"
    }
   ],
   "source": [
    "def generateVectors(termFreqs):\n",
    "    docTotalTerms = sum(termFreqs.values())\n",
    "    \n",
    "    def calcScores(TF):\n",
    "        filterTF = dict((k,v) for k, v in TF.iteritems() if bIdTerms.has_key(k))\n",
    "        return dict((bIdTerms[k], bIdfs[k] * TF[k] / docTotalTerms) for k, v in filterTF.iteritems())\n",
    "           \n",
    "    return Vectors.sparse(len(bIdTerms), calcScores(termFreqs)) \n",
    "    \n",
    "vecs = docTermFreqs.map(generateVectors)\n",
    "vecs.cache()"
   ]
  },
  {
   "cell_type": "markdown",
   "metadata": {},
   "source": [
    "** SVD **"
   ]
  },
  {
   "cell_type": "markdown",
   "metadata": {
    "collapsed": false
   },
   "source": [
    "\n",
    "\n",
    "hashingTF = HashingTF()\n",
    "tf = hashingTF.transform(documents)\n",
    "\n",
    "tf.cache()\n",
    "idf = IDF().fit(tf)\n",
    "tfidf = idf.transform(tf)"
   ]
  },
  {
   "cell_type": "code",
   "execution_count": 83,
   "metadata": {
    "collapsed": false
   },
   "outputs": [],
   "source": [
    "class SVD(JavaModelWrapper):\n",
    "    \"\"\"Wrapper around the SVD scala case class\"\"\"\n",
    "    @property\n",
    "    def U(self):\n",
    "        \"\"\" Returns a RowMatrix whose columns are the left singular vectors of the SVD if computeU was set to be True.\"\"\"\n",
    "        u = self.call(\"U\")\n",
    "        if u is not None:\n",
    "            return RowMatrix(u)\n",
    "\n",
    "    @property\n",
    "    def s(self):\n",
    "        \"\"\"Returns a DenseVector with singular values in descending order.\"\"\"\n",
    "        return self.call(\"s\")\n",
    "\n",
    "    @property\n",
    "    def V(self):\n",
    "        \"\"\" Returns a DenseMatrix whose columns are the right singular vectors of the SVD.\"\"\"\n",
    "        return self.call(\"V\")\n",
    "\n",
    "def computeSVD(row_matrix, k, computeU=True, rCond=1e-9):\n",
    "    \"\"\"\n",
    "    Computes the singular value decomposition of the RowMatrix.\n",
    "    The given row matrix A of dimension (m X n) is decomposed into U * s * V'T where\n",
    "    * s: DenseVector consisting of square root of the eigenvalues (singular values) in descending order.\n",
    "    * U: (m X k) (left singular vectors) is a RowMatrix whose columns are the eigenvectors of (A X A')\n",
    "    * v: (n X k) (right singular vectors) is a Matrix whose columns are the eigenvectors of (A' X A)\n",
    "    :param k: number of singular values to keep. We might return less than k if there are numerically zero singular values.\n",
    "    :param computeU: Whether of not to compute U. If set to be True, then U is computed by A * V * sigma^-1\n",
    "    :param rCond: the reciprocal condition number. All singular values smaller than rCond * sigma(0) are treated as zero, where sigma(0) is the largest singular value.\n",
    "    :returns: SVD object\n",
    "    \"\"\"\n",
    "    \n",
    "    java_model = row_matrix._java_matrix_wrapper.call(\"computeSVD\", int(k), computeU, float(rCond))\n",
    "    return SVD(java_model)"
   ]
  },
  {
   "cell_type": "code",
   "execution_count": 157,
   "metadata": {
    "collapsed": false
   },
   "outputs": [],
   "source": [
    "mat = RowMatrix (vecs) \n",
    "svd = computeSVD(mat, 15, True)\n"
   ]
  },
  {
   "cell_type": "markdown",
   "metadata": {},
   "source": [
    "**Encontrando conceitos importantes**"
   ]
  },
  {
   "cell_type": "code",
   "execution_count": 151,
   "metadata": {
    "collapsed": false
   },
   "outputs": [],
   "source": [
    "v = svd.V\n",
    "numConcepts = v.numCols\n",
    "arr = v.toArray().flatten()\n",
    "\n",
    "numTerms = 500\n",
    "topTerms = []\n",
    "\n",
    "def arrayWithIndex(arr):\n",
    "    tupleList = [ (index,item) for (index,item) in enumerate( arr ) ]\n",
    "    return sorted(tupleList, key=lambda tup: tup[1])[::-1]\n",
    "\n",
    "def mapList(l):\n",
    "    return [(termIds[x], y) for (x,y) in l]\n",
    "        \n",
    "for i in range(0, numConcepts):\n",
    "    offs = i * v.numRows\n",
    "    termWeights = arrayWithIndex(arr[offs : offs + v.numRows])\n",
    "    topTerms.append(mapList(termWeights[:numTerms]))"
   ]
  },
  {
   "cell_type": "markdown",
   "metadata": {},
   "source": [
    "**Top Documents in Top Concepts**"
   ]
  },
  {
   "cell_type": "code",
   "execution_count": 190,
   "metadata": {
    "collapsed": false
   },
   "outputs": [],
   "source": [
    "u = svd.U\n",
    "\n",
    "topDocs = []\n",
    "\n",
    "def mapListDoc(l):\n",
    "    return [(docIds[y], x) for (x,y) in l]\n",
    "\n",
    "for i in range(0, u.numCols()):\n",
    "    docWeights = u.rows.map(lambda x: x.toArray()[i]).zipWithUniqueId()\n",
    "    topDocs.append(mapListDoc(docWeights.top(numDocs)))\n"
   ]
  },
  {
   "cell_type": "code",
   "execution_count": 191,
   "metadata": {
    "collapsed": false
   },
   "outputs": [
    {
     "name": "stdout",
     "output_type": "stream",
     "text": [
      "[[('doc7', -2.4237389563359696e-07), ('doc14', -3.922928851859077e-07), ('doc5', -6.2919680657957415e-07), ('doc1', -9.4336882817787148e-06), ('doc2', -1.5064183054833892e-05), ('doc8', -3.8958484174650644e-05), ('doc11', -9.5836023893182783e-05), ('doc9', -0.00010840152253518779), ('doc13', -0.000150086275358205), ('doc3', -0.00033900569760214881), ('doc4', -0.00091665002746759013), ('doc6', -0.07075411955019921), ('doc10', -0.10626098917921036), ('doc0', -0.12230649997271191), ('doc12', -0.98424721302221629)], [('doc12', 0.1503316708022252), ('doc7', -3.2732460143766834e-07), ('doc5', -7.3774618333364265e-07), ('doc14', -1.5988818257447671e-06), ('doc4', -3.7943280015833294e-05), ('doc1', -8.7666548584013933e-05), ('doc3', -0.00012187934947024443), ('doc2', -0.0001421907521860537), ('doc9', -0.00021317549435223262), ('doc8', -0.00034428371910892998), ('doc11', -0.0004215654701204005), ('doc13', -0.00095070533391661478), ('doc6', -0.080552027463366371), ('doc10', -0.23836381448721797), ('doc0', -0.95608219407862405)], [('doc10', 0.95988145239889344), ('doc6', 0.078060596690541537), ('doc11', 0.00071733243505711197), ('doc9', 0.00062563404643779482), ('doc3', 0.00046764407325479716), ('doc13', 0.00016961530313963746), ('doc4', 9.9050140164860169e-05), ('doc5', 1.1198028592240461e-06), ('doc14', 3.2284141327896584e-07), ('doc7', 1.9591396399855292e-07), ('doc1', -2.4808260110574966e-05), ('doc2', -4.104254477043037e-05), ('doc8', -9.4229541633789382e-05), ('doc12', -0.077179257629436365), ('doc0', -0.25802389102772916)], [('doc6', 0.9911639966688246), ('doc9', 0.0016997136306657404), ('doc3', 0.0012845287186379483), ('doc13', 0.00078166789383799342), ('doc11', 7.1938331175994805e-05), ('doc8', 5.4256151681223012e-05), ('doc5', 3.8375220912950172e-06), ('doc14', 2.0537905960288829e-06), ('doc7', 7.3375356428840972e-07), ('doc1', -6.4840426239902868e-06), ('doc2', -1.2573610369336452e-05), ('doc4', -0.00013477260241336858), ('doc12', -0.051964601006523059), ('doc0', -0.066111330195798665), ('doc10', -0.1025559721429066)], [('doc7', 0.99999410109592468), ('doc8', 0.002093079025180898), ('doc9', 0.0015458846595109161), ('doc2', 0.0013368833711207685), ('doc4', 0.0012383608972412496), ('doc5', 0.00091510088533986182), ('doc1', 0.000632173399442397), ('doc14', 0.00051903583962262061), ('doc11', 0.00032279475083028868), ('doc3', 0.00024771980104776071), ('doc13', 0.00018494109256178548), ('doc12', -1.1609977972294832e-06), ('doc0', -1.5344022363686238e-06), ('doc10', -1.6252447687201418e-06), ('doc6', -4.142687521423298e-06)], [('doc9', 0.99967230561949738), ('doc11', 0.014301117118331659), ('doc2', 0.013324198194670955), ('doc5', 0.0078472932054325911), ('doc13', 0.0076715545398821196), ('doc3', 0.0075249974785911323), ('doc14', 0.0068918703599579727), ('doc1', 0.0044572557264204666), ('doc8', 0.0040943822949569509), ('doc4', 0.0024637892137354613), ('doc12', 5.8993764507134813e-05), ('doc0', 4.3282415787490467e-05), ('doc10', -0.00050555041141247094), ('doc7', -0.0015963045256004525), ('doc6', -0.0017772084713274399)], [('doc9', 0.014474150923696118), ('doc7', 0.0014413679440146434), ('doc0', 0.00018028087011204286), ('doc10', 2.1541306965790002e-05), ('doc12', 1.9511307781207039e-05), ('doc6', 1.3689155663633998e-05), ('doc8', -0.014316815089528513), ('doc3', -0.017038065150625416), ('doc11', -0.017828083102695576), ('doc13', -0.018766408100378589), ('doc4', -0.021573203965489601), ('doc5', -0.022140898727763227), ('doc14', -0.025481637118087951), ('doc1', -0.041758730720672634), ('doc2', -0.99763438916983516)], [('doc2', 0.047762794882400282), ('doc9', 0.0062129983359260448), ('doc7', 0.00075016606104031953), ('doc6', 0.00014152839920804957), ('doc0', 0.00013363312422162883), ('doc10', 7.5371082352777884e-05), ('doc12', 3.0443401970506041e-05), ('doc4', -0.019223347874628323), ('doc8', -0.027408827275446416), ('doc13', -0.038667864296060561), ('doc11', -0.039637481148530579), ('doc5', -0.051541263541430828), ('doc14', -0.055350759222800916), ('doc3', -0.082698840002056961), ('doc1', -0.99042066100373161)], [('doc1', 0.10066022628818534), ('doc2', 0.038139050914133922), ('doc9', 0.018694615282329075), ('doc7', 0.0009562564503133638), ('doc6', 0.00095039941465662131), ('doc10', 0.00083526206759423557), ('doc0', 0.00067101107657247666), ('doc12', 0.00018523180778505077), ('doc8', -0.066720350270740136), ('doc14', -0.11725439543451227), ('doc4', -0.19699777034543955), ('doc3', -0.26090115090958299), ('doc5', -0.29793398524143117), ('doc13', -0.60575389873619778), ('doc11', -0.63818513554582468)], [('doc5', 0.69060890661574503), ('doc3', 0.53513867341032373), ('doc4', 0.15124622978053895), ('doc14', 0.077047542613898581), ('doc8', 0.047725040785661726), ('doc0', 0.00032578106132350338), ('doc10', 0.00012250029838205799), ('doc12', -0.00027350747405646464), ('doc6', -0.0003875774083101968), ('doc7', -0.00086226846717763329), ('doc9', -0.0030173646541090619), ('doc2', -0.01609982764827704), ('doc1', -0.064911249206763721), ('doc13', -0.3075310949744593), ('doc11', -0.32640200627650201)], [('doc5', 0.20260943489245536), ('doc3', 0.11572308275539896), ('doc11', 0.090690329294245767), ('doc13', 0.076129583350350485), ('doc2', 0.012538223115558925), ('doc7', 0.00097658883053841432), ('doc12', 0.00084541954439053073), ('doc10', 6.74754120377004e-05), ('doc0', 5.3194872052839126e-05), ('doc6', -0.00028943559971615694), ('doc9', -0.0018322592397818733), ('doc1', -0.0053473343919038206), ('doc8', -0.016492027993798387), ('doc14', -0.030264603772703177), ('doc4', -0.96444713939086779)], [('doc3', 0.78561514805745669), ('doc2', 0.0028449468674804422), ('doc14', 0.0019116308881683933), ('doc7', 0.00043852957211338748), ('doc8', 0.00036795155082972806), ('doc0', 5.8480654301383767e-05), ('doc12', -0.00013431946036872398), ('doc10', -0.00027520290101087919), ('doc9', -0.00058054726210460261), ('doc6', -0.001040862861149525), ('doc13', -0.012289149689888621), ('doc11', -0.015384018647428372), ('doc1', -0.031678380496864764), ('doc4', -0.037503939576109306), ('doc5', -0.61643936381234099)], [('doc14', 0.93523377519979189), ('doc8', 0.30703180762119753), ('doc6', 0.00014910361871660728), ('doc10', 0.00011733099277228421), ('doc12', 8.3793955674155022e-05), ('doc0', -4.1482989871997542e-05), ('doc7', -0.00083559585869499549), ('doc9', -0.0044135211627761755), ('doc2', -0.01924270373388098), ('doc1', -0.043594737168118285), ('doc13', -0.051664696484915611), ('doc11', -0.058980169961680887), ('doc4', -0.075099852122645416), ('doc3', -0.08630536614684034), ('doc5', -0.097681854109522209)], [('doc8', 0.947141461121351), ('doc13', 0.0094050693013891969), ('doc10', 3.9381215687513214e-05), ('doc12', 2.543288819639028e-05), ('doc6', -5.0124126291774262e-05), ('doc0', -0.00033489652357808486), ('doc9', -0.0009394165425122144), ('doc7', -0.0017571165419500751), ('doc2', -0.0038320935149889117), ('doc1', -0.0049113160752918151), ('doc4', -0.015008016225129303), ('doc3', -0.018358913289857885), ('doc5', -0.022155419325548511), ('doc11', -0.028125325221457033), ('doc14', -0.31772239097953758)], [('doc11', 0.68655375724929968), ('doc8', 0.025992746579771873), ('doc4', 0.0065562385473280386), ('doc2', 0.00096858873974939503), ('doc3', 0.00067214109813304185), ('doc6', 0.00052563975249099405), ('doc0', 0.00043949833642567028), ('doc1', 0.00040015182538326712), ('doc12', -2.2256787823942813e-05), ('doc7', -0.0001401698299603071), ('doc10', -0.00030665196906195374), ('doc5', -0.002204601430292605), ('doc9', -0.0043361935057366274), ('doc14', -0.0049962677082925908), ('doc13', -0.72654977258411158)]]\n"
     ]
    }
   ],
   "source": [
    "print topDocs"
   ]
  },
  {
   "cell_type": "code",
   "execution_count": null,
   "metadata": {
    "collapsed": true
   },
   "outputs": [],
   "source": []
  }
 ],
 "metadata": {
  "kernelspec": {
   "display_name": "Pyspark (Py 2)",
   "language": "",
   "name": "pyspark"
  },
  "language_info": {
   "codemirror_mode": {
    "name": "ipython",
    "version": 2
   },
   "file_extension": ".py",
   "mimetype": "text/x-python",
   "name": "python",
   "nbconvert_exporter": "python",
   "pygments_lexer": "ipython2",
   "version": "2.7.8"
  }
 },
 "nbformat": 4,
 "nbformat_minor": 1
}
