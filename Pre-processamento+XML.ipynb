{
 "cells": [
  {
   "cell_type": "markdown",
   "metadata": {},
   "source": [
    "## Realizando o Pré-Processamento do XML ##"
   ]
  },
  {
   "cell_type": "code",
   "execution_count": 71,
   "metadata": {
    "collapsed": true
   },
   "outputs": [],
   "source": [
    "from xml.dom.minidom import parse\n",
    "from nltk.corpus import stopwords\n",
    "from nltk.tokenize import word_tokenize\n",
    "from nltk.stem.snowball import SnowballStemmer\n",
    "from nltk.tokenize import RegexpTokenizer\n",
    "import xml.dom.minidom\n",
    "import unicodedata\n"
   ]
  },
  {
   "cell_type": "code",
   "execution_count": 78,
   "metadata": {
    "collapsed": false
   },
   "outputs": [],
   "source": [
    "DOMTree = xml.dom.minidom.parse('data_works.xml')\n",
    "collection = DOMTree.documentElement\n",
    "\n",
    "pages = collection.getElementsByTagName('page')\n",
    "\n",
    "stemmer = SnowballStemmer('english')\n",
    "stop_words = set(stopwords.words('english'))\n",
    "toker = RegexpTokenizer(r'\\w+')\n",
    "\n",
    "textos = []\n",
    "\n",
    "for pg in pages:\n",
    "    titulo = pg.getElementsByTagName('title')[0]\n",
    "    #titulos.append(titulo.childNodes[0].data) \n",
    "    texto = pg.getElementsByTagName('text')[0]\n",
    "    texto_filtrado = [word for word in toker.tokenize(titulo.childNodes[0].data + texto.childNodes[0].data) if word not in stop_words]\n",
    "    texto_filtrado = [stemmer.stem(word) for word in texto_filtrado]\n",
    "    textos.append(' '.join(texto_filtrado))\n",
    "   \n",
    "with open('data_works.txt', 'w') as arq:\n",
    "    for t in textos:\n",
    "        x = unicodedata.normalize('NFKD', t).encode('ascii','ignore')\n",
    "        arq.write(x)\n",
    "        arq.write('\\n')\n",
    "    \n",
    "    "
   ]
  },
  {
   "cell_type": "code",
   "execution_count": null,
   "metadata": {
    "collapsed": true
   },
   "outputs": [],
   "source": []
  }
 ],
 "metadata": {
  "kernelspec": {
   "display_name": "Pyspark (Py 2)",
   "language": "",
   "name": "pyspark"
  },
  "language_info": {
   "codemirror_mode": {
    "name": "ipython",
    "version": 2
   },
   "file_extension": ".py",
   "mimetype": "text/x-python",
   "name": "python",
   "nbconvert_exporter": "python",
   "pygments_lexer": "ipython2",
   "version": "2.7.8"
  }
 },
 "nbformat": 4,
 "nbformat_minor": 1
}
